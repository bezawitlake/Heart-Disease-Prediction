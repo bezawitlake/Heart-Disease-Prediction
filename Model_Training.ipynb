{
 "cells": [
  {
   "cell_type": "code",
   "execution_count": 1,
   "id": "4ae6ea8f",
   "metadata": {},
   "outputs": [
    {
     "name": "stderr",
     "output_type": "stream",
     "text": [
      "C:\\Users\\Pc\\anaconda3\\lib\\site-packages\\xgboost\\compat.py:36: FutureWarning: pandas.Int64Index is deprecated and will be removed from pandas in a future version. Use pandas.Index with the appropriate dtype instead.\n",
      "  from pandas import MultiIndex, Int64Index\n"
     ]
    }
   ],
   "source": [
    "import pandas as pd\n",
    "import numpy as np\n",
    "import matplotlib.pyplot as plt\n",
    "import seaborn as sns\n",
    "from sklearn.preprocessing import StandardScaler\n",
    "import random\n",
    "from scipy import stats\n",
    "from sklearn import neighbors\n",
    "from sklearn.model_selection import train_test_split, GridSearchCV\n",
    "from sklearn.feature_selection import VarianceThreshold\n",
    "from mlxtend.feature_selection import SequentialFeatureSelector\n",
    "from sklearn.neighbors import KNeighborsClassifier\n",
    "from sklearn.linear_model import LogisticRegression\n",
    "from sklearn.linear_model import LinearRegression\n",
    "from sklearn.ensemble import RandomForestRegressor\n",
    "from sklearn.ensemble import RandomForestClassifier\n",
    "from sklearn.tree import DecisionTreeClassifier\n",
    "from sklearn.naive_bayes import GaussianNB\n",
    "from sklearn.svm import SVC\n",
    "import xgboost as xgb\n",
    "from sklearn.feature_selection import RFE\n",
    "from sklearn.linear_model import Lasso, LassoCV\n",
    "from sklearn.feature_selection import SelectFromModel\n",
    "from sklearn.metrics import accuracy_score, precision_score, recall_score, f1_score, roc_auc_score, confusion_matrix"
   ]
  },
  {
   "cell_type": "code",
   "execution_count": 2,
   "id": "af581cdf",
   "metadata": {},
   "outputs": [],
   "source": [
    "data = pd.read_csv(\"heart.csv\")"
   ]
  },
  {
   "cell_type": "code",
   "execution_count": 3,
   "id": "9ca5fa91",
   "metadata": {},
   "outputs": [],
   "source": [
    "data[data.duplicated()]\n",
    "data.drop_duplicates(keep='first', inplace=True)"
   ]
  },
  {
   "cell_type": "code",
   "execution_count": 5,
   "id": "96e5b571",
   "metadata": {},
   "outputs": [],
   "source": [
    "X=data.drop(columns=['age','trtbps','chol','fbs','restecg','slp','sex','caa','thalachh','output'])"
   ]
  },
  {
   "cell_type": "code",
   "execution_count": 6,
   "id": "fcf52413",
   "metadata": {},
   "outputs": [
    {
     "data": {
      "text/html": [
       "<div>\n",
       "<style scoped>\n",
       "    .dataframe tbody tr th:only-of-type {\n",
       "        vertical-align: middle;\n",
       "    }\n",
       "\n",
       "    .dataframe tbody tr th {\n",
       "        vertical-align: top;\n",
       "    }\n",
       "\n",
       "    .dataframe thead th {\n",
       "        text-align: right;\n",
       "    }\n",
       "</style>\n",
       "<table border=\"1\" class=\"dataframe\">\n",
       "  <thead>\n",
       "    <tr style=\"text-align: right;\">\n",
       "      <th></th>\n",
       "      <th>cp</th>\n",
       "      <th>exng</th>\n",
       "      <th>oldpeak</th>\n",
       "      <th>thall</th>\n",
       "    </tr>\n",
       "  </thead>\n",
       "  <tbody>\n",
       "    <tr>\n",
       "      <th>0</th>\n",
       "      <td>3</td>\n",
       "      <td>0</td>\n",
       "      <td>2.3</td>\n",
       "      <td>1</td>\n",
       "    </tr>\n",
       "    <tr>\n",
       "      <th>1</th>\n",
       "      <td>2</td>\n",
       "      <td>0</td>\n",
       "      <td>3.5</td>\n",
       "      <td>2</td>\n",
       "    </tr>\n",
       "    <tr>\n",
       "      <th>2</th>\n",
       "      <td>1</td>\n",
       "      <td>0</td>\n",
       "      <td>1.4</td>\n",
       "      <td>2</td>\n",
       "    </tr>\n",
       "    <tr>\n",
       "      <th>3</th>\n",
       "      <td>1</td>\n",
       "      <td>0</td>\n",
       "      <td>0.8</td>\n",
       "      <td>2</td>\n",
       "    </tr>\n",
       "    <tr>\n",
       "      <th>4</th>\n",
       "      <td>0</td>\n",
       "      <td>1</td>\n",
       "      <td>0.6</td>\n",
       "      <td>2</td>\n",
       "    </tr>\n",
       "    <tr>\n",
       "      <th>...</th>\n",
       "      <td>...</td>\n",
       "      <td>...</td>\n",
       "      <td>...</td>\n",
       "      <td>...</td>\n",
       "    </tr>\n",
       "    <tr>\n",
       "      <th>298</th>\n",
       "      <td>0</td>\n",
       "      <td>1</td>\n",
       "      <td>0.2</td>\n",
       "      <td>3</td>\n",
       "    </tr>\n",
       "    <tr>\n",
       "      <th>299</th>\n",
       "      <td>3</td>\n",
       "      <td>0</td>\n",
       "      <td>1.2</td>\n",
       "      <td>3</td>\n",
       "    </tr>\n",
       "    <tr>\n",
       "      <th>300</th>\n",
       "      <td>0</td>\n",
       "      <td>0</td>\n",
       "      <td>3.4</td>\n",
       "      <td>3</td>\n",
       "    </tr>\n",
       "    <tr>\n",
       "      <th>301</th>\n",
       "      <td>0</td>\n",
       "      <td>1</td>\n",
       "      <td>1.2</td>\n",
       "      <td>3</td>\n",
       "    </tr>\n",
       "    <tr>\n",
       "      <th>302</th>\n",
       "      <td>1</td>\n",
       "      <td>0</td>\n",
       "      <td>0.0</td>\n",
       "      <td>2</td>\n",
       "    </tr>\n",
       "  </tbody>\n",
       "</table>\n",
       "<p>302 rows × 4 columns</p>\n",
       "</div>"
      ],
      "text/plain": [
       "     cp  exng  oldpeak  thall\n",
       "0     3     0      2.3      1\n",
       "1     2     0      3.5      2\n",
       "2     1     0      1.4      2\n",
       "3     1     0      0.8      2\n",
       "4     0     1      0.6      2\n",
       "..   ..   ...      ...    ...\n",
       "298   0     1      0.2      3\n",
       "299   3     0      1.2      3\n",
       "300   0     0      3.4      3\n",
       "301   0     1      1.2      3\n",
       "302   1     0      0.0      2\n",
       "\n",
       "[302 rows x 4 columns]"
      ]
     },
     "execution_count": 6,
     "metadata": {},
     "output_type": "execute_result"
    }
   ],
   "source": [
    "X"
   ]
  },
  {
   "cell_type": "code",
   "execution_count": 7,
   "id": "7506dc2e",
   "metadata": {},
   "outputs": [],
   "source": [
    "y=data['output']"
   ]
  },
  {
   "cell_type": "code",
   "execution_count": 8,
   "id": "8bfc3439",
   "metadata": {},
   "outputs": [],
   "source": [
    "X_train, X_test, y_train, y_test = train_test_split(X, y, test_size=0.2, random_state=42)"
   ]
  },
  {
   "cell_type": "code",
   "execution_count": 9,
   "id": "8757baa4",
   "metadata": {},
   "outputs": [],
   "source": [
    "scaler = StandardScaler()\n",
    "X_train= scaler.fit_transform(X_train)\n",
    "# Transform the testing data using the scaler\n",
    "X_test = scaler.transform(X_test)"
   ]
  },
  {
   "cell_type": "code",
   "execution_count": 10,
   "id": "59c4b94e",
   "metadata": {},
   "outputs": [
    {
     "name": "stdout",
     "output_type": "stream",
     "text": [
      "Accuracy: 0.819672131147541\n"
     ]
    }
   ],
   "source": [
    "# 1. Create a logistic regression classifier\n",
    "logistic_regression = LogisticRegression()\n",
    "# Train the classifier on the training data\n",
    "logistic_regression.fit(X_train, y_train)\n",
    "# Evaluate the classifier on the testing data\n",
    "logistic_regression_score = logistic_regression.score(X_test, y_test)\n",
    "# Print the accuracy score\n",
    "print('Accuracy:', logistic_regression_score)"
   ]
  },
  {
   "cell_type": "code",
   "execution_count": 11,
   "id": "80b8077c",
   "metadata": {},
   "outputs": [
    {
     "name": "stdout",
     "output_type": "stream",
     "text": [
      "Accuracy: 0.8032786885245902\n"
     ]
    }
   ],
   "source": [
    "#  2. Create a k-NN classifier with k=3\n",
    "KNN_classifier = KNeighborsClassifier(n_neighbors=3)\n",
    "# Train the classifier on the scaled training data\n",
    "KNN_classifier.fit(X_train, y_train)\n",
    "# Evaluate the classifier on the scaled testing data\n",
    "KNN_classifier_score = KNN_classifier.score(X_test, y_test)\n",
    "# Print the accuracy score\n",
    "print('Accuracy:', KNN_classifier_score)"
   ]
  },
  {
   "cell_type": "code",
   "execution_count": 12,
   "id": "2f31df63",
   "metadata": {},
   "outputs": [
    {
     "name": "stdout",
     "output_type": "stream",
     "text": [
      "Accuracy: 0.8524590163934426\n"
     ]
    }
   ],
   "source": [
    "# 3. Create SVM Classifier\n",
    "svm_classifier = SVC(kernel='linear')\n",
    "# Train the classifier on the training data\n",
    "svm_classifier.fit(X_train, y_train)\n",
    "# Evaluate the classifier on the testing data\n",
    "svm_classifier_score = svm_classifier.score(X_test, y_test)\n",
    "# Print the accuracy score\n",
    "print('Accuracy:', svm_classifier_score)"
   ]
  },
  {
   "cell_type": "code",
   "execution_count": 13,
   "id": "b0a464e5",
   "metadata": {},
   "outputs": [
    {
     "name": "stdout",
     "output_type": "stream",
     "text": [
      "Accuracy: 0.7540983606557377\n"
     ]
    }
   ],
   "source": [
    "# 4. Create Decision tree classifier\n",
    "decision_classifier = DecisionTreeClassifier()\n",
    "# Train the classifier on the training data\n",
    "decision_classifier.fit(X_train, y_train)\n",
    "# Evaluate the classifier on the testing data\n",
    "decision_classifier_score = decision_classifier.score(X_test, y_test)\n",
    "# Print the accuracy score\n",
    "print('Accuracy:', decision_classifier_score)"
   ]
  },
  {
   "cell_type": "code",
   "execution_count": 14,
   "id": "d866db27",
   "metadata": {},
   "outputs": [
    {
     "name": "stdout",
     "output_type": "stream",
     "text": [
      "Accuracy: 0.7704918032786885\n"
     ]
    }
   ],
   "source": [
    "# 5. Random forest Classifier\n",
    "random_classifer = RandomForestClassifier(n_estimators=100)\n",
    "# Train the classifier on the training data\n",
    "random_classifer.fit(X_train, y_train)\n",
    "# Evaluate the classifier on the testing data\n",
    "random_classifer_score = random_classifer.score(X_test, y_test)\n",
    "# Print the accuracy score\n",
    "print('Accuracy:', random_classifer_score)"
   ]
  },
  {
   "cell_type": "code",
   "execution_count": 15,
   "id": "ccf06598",
   "metadata": {},
   "outputs": [
    {
     "name": "stderr",
     "output_type": "stream",
     "text": [
      "C:\\Users\\Pc\\anaconda3\\lib\\site-packages\\xgboost\\sklearn.py:1224: UserWarning: The use of label encoder in XGBClassifier is deprecated and will be removed in a future release. To remove this warning, do the following: 1) Pass option use_label_encoder=False when constructing XGBClassifier object; and 2) Encode your labels (y) as integers starting with 0, i.e. 0, 1, 2, ..., [num_class - 1].\n",
      "  warnings.warn(label_encoder_deprecation_msg, UserWarning)\n"
     ]
    },
    {
     "name": "stdout",
     "output_type": "stream",
     "text": [
      "[11:30:14] WARNING: ..\\src\\learner.cc:1115: Starting in XGBoost 1.3.0, the default evaluation metric used with the objective 'binary:logistic' was changed from 'error' to 'logloss'. Explicitly set eval_metric if you'd like to restore the old behavior.\n",
      "Accuracy: 0.7868852459016393\n"
     ]
    }
   ],
   "source": [
    "# 6. XGboost classifier\n",
    "xgb_classifier = xgb.XGBClassifier()\n",
    "# Train the classifier on the training data\n",
    "xgb_classifier.fit(X_train, y_train)\n",
    "# Evaluate the classifier on the testing data\n",
    "xgb_classifier_score = xgb_classifier.score(X_test, y_test)\n",
    "# Print the accuracy score\n",
    "print('Accuracy:', xgb_classifier_score)"
   ]
  },
  {
   "cell_type": "code",
   "execution_count": 16,
   "id": "231ac14f",
   "metadata": {},
   "outputs": [
    {
     "name": "stdout",
     "output_type": "stream",
     "text": [
      "Accuracy: 0.8360655737704918\n"
     ]
    }
   ],
   "source": [
    "# 7. Naive bayes Classification\n",
    "naive_classifier = GaussianNB()\n",
    "# Train the classifier on the training data\n",
    "naive_classifier.fit(X_train, y_train)\n",
    "# Evaluate the classifier on the testing data\n",
    "naive_classifier_score = naive_classifier.score(X_test, y_test)\n",
    "# Print the accuracy score\n",
    "print('Accuracy:', naive_classifier_score)"
   ]
  },
  {
   "cell_type": "code",
   "execution_count": 19,
   "id": "303a5cf0",
   "metadata": {},
   "outputs": [
    {
     "name": "stdout",
     "output_type": "stream",
     "text": [
      "                      Model  Accuracy  Precision    Recall  F1 Score\n",
      "0       Logistic regression  0.819672   0.819355  0.820043  0.819478\n",
      "1            KNN classifier  0.803279   0.807359  0.806034  0.803226\n",
      "2            SVM Classifier  0.852459   0.852814  0.851293  0.851822\n",
      "3  Decision Tree classifier  0.754098   0.760349  0.757543  0.753834\n",
      "4  Random Forest Classifier  0.770492   0.774351  0.773168  0.770430\n",
      "5            XGB Classifier  0.786885   0.793573  0.790409  0.786656\n",
      "6    Naive Bayes Classifier  0.836066   0.840368  0.838901  0.836022\n"
     ]
    }
   ],
   "source": [
    "models = [logistic_regression, KNN_classifier, svm_classifier, decision_classifier,random_classifer,xgb_classifier,naive_classifier]\n",
    "model_names = ['Logistic regression', 'KNN classifier', 'SVM Classifier','Decision Tree classifier','Random Forest Classifier','XGB Classifier','Naive Bayes Classifier']\n",
    "accuracy = []\n",
    "precision = []\n",
    "recall = []\n",
    "f1 = []\n",
    "for model in models:\n",
    "    y_pred = model.predict(X_test)\n",
    "    accuracy.append(accuracy_score(y_test, y_pred))\n",
    "    precision.append(precision_score(y_test, y_pred, average='macro'))\n",
    "    recall.append(recall_score(y_test, y_pred, average='macro'))\n",
    "    f1.append(f1_score(y_test, y_pred, average='macro'))\n",
    "    \n",
    "evaluation = {'Model': model_names, 'Accuracy': accuracy, 'Precision': precision, 'Recall': recall, 'F1 Score': f1}\n",
    "df = pd.DataFrame(evaluation)\n",
    "# Print DataFrame\n",
    "print(df)"
   ]
  },
  {
   "cell_type": "code",
   "execution_count": null,
   "id": "29d6f8d6",
   "metadata": {},
   "outputs": [],
   "source": []
  }
 ],
 "metadata": {
  "kernelspec": {
   "display_name": "Python 3 (ipykernel)",
   "language": "python",
   "name": "python3"
  },
  "language_info": {
   "codemirror_mode": {
    "name": "ipython",
    "version": 3
   },
   "file_extension": ".py",
   "mimetype": "text/x-python",
   "name": "python",
   "nbconvert_exporter": "python",
   "pygments_lexer": "ipython3",
   "version": "3.9.7"
  }
 },
 "nbformat": 4,
 "nbformat_minor": 5
}
